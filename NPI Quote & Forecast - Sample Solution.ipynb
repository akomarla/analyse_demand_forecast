{
 "cells": [
  {
   "cell_type": "code",
   "execution_count": 1,
   "id": "96a07204",
   "metadata": {},
   "outputs": [],
   "source": [
    "import pandas as pd\n",
    "import matplotlib.pyplot as plt\n",
    "import numpy as np\n",
    "from sklearn.neighbors import KernelDensity"
   ]
  },
  {
   "cell_type": "markdown",
   "id": "de994b59",
   "metadata": {},
   "source": [
    "## Data Processing"
   ]
  },
  {
   "cell_type": "code",
   "execution_count": 31,
   "id": "da43a361",
   "metadata": {},
   "outputs": [],
   "source": [
    "# Reading data\n",
    "ech_forecast_q1 = pd.read_excel('C:/Users/akomarlx/Downloads/PO Tracking_ECH.xlsx', sheet_name = 'ECH Q1')\n",
    "ech_forecast_q2 = pd.read_excel('C:/Users/akomarlx/Downloads/PO Tracking_ECH.xlsx', sheet_name = 'ECH Q2')\n",
    "ech_quotes_pegatron = pd.read_excel(\"C:/Users/akomarlx/Downloads/Solidigm_Pegatron NPI Quote File ww32'22_rev3.xlsx\", sheet_name = 'ECHO HARBOR')\n",
    "ech_quotes_pti = pd.read_excel(\"C:/Users/akomarlx/Downloads/Solidigm_PTI TW NPI Quote File WW33'22_rev3.xlsm\", sheet_name = \"EH\")"
   ]
  },
  {
   "cell_type": "code",
   "execution_count": 56,
   "id": "b3e1d789",
   "metadata": {},
   "outputs": [],
   "source": [
    "# Lower casing of Site column\n",
    "ech_forecast_q1['Site'] = ech_forecast_q1['Site'].str.lower()\n",
    "ech_forecast_q2['Site'] = ech_forecast_q2['Site'].str.lower()\n",
    "ech_quotes_pegatron['Site'] = 'pegatron'\n",
    "ech_quotes_pti['Site'] = 'pti'\n",
    "\n",
    "# Combining forecast data for Q1 and Q2\n",
    "ech_forecast = pd.concat([ech_forecast_q1, ech_forecast_q2])\n",
    "ech_forecast.reset_index(drop = True, inplace = True)\n",
    "ech_forecast.drop(ech_forecast.tail(1).index, inplace=True)\n",
    "\n",
    "# Combining quote data for PTI and Pegatron\n",
    "ech_quotes = pd.concat([ech_quotes_pegatron, ech_quotes_pti])\n",
    "ech_quotes.reset_index(drop = True, inplace = True)\n",
    "\n",
    "# Merging quote data with forecast data\n",
    "ech_quotes_po = pd.merge(ech_forecast, ech_quotes, on = 'Build ID', how = 'outer')"
   ]
  },
  {
   "cell_type": "code",
   "execution_count": 55,
   "id": "9ad698ef",
   "metadata": {},
   "outputs": [
    {
     "data": {
      "text/plain": [
       "count    108.000000\n",
       "mean       4.566481\n",
       "std        0.237157\n",
       "min        4.330000\n",
       "25%        4.370000\n",
       "50%        4.450000\n",
       "75%        4.770000\n",
       "max        4.970000\n",
       "Name: diff, dtype: float64"
      ]
     },
     "execution_count": 55,
     "metadata": {},
     "output_type": "execute_result"
    }
   ],
   "source": [
    "# Calculating differences between forecasted cost and quote cost (BOM+MVA)\n",
    "ech_quotes_po['diff'] = ech_quotes_po[' Cost/unit Forecast'] - ech_quotes_po['BOM+MVA Cost']\n",
    "# Mean, std, etc. of differences\n",
    "ech_quotes_po['diff'].describe()"
   ]
  },
  {
   "cell_type": "markdown",
   "id": "37ff5911",
   "metadata": {},
   "source": [
    "## Solution"
   ]
  },
  {
   "cell_type": "markdown",
   "id": "22043175",
   "metadata": {},
   "source": [
    "### PTI and Pegatron combined"
   ]
  },
  {
   "cell_type": "code",
   "execution_count": 38,
   "id": "90dc83b5",
   "metadata": {},
   "outputs": [],
   "source": [
    "# Number of builds from both PTI and Pegatron for each difference b/w quote & forecasted cost per unit\n",
    "ech_groups = ech_quotes_po.groupby(by = ['diff'])\n",
    "diff_list = []\n",
    "len_list = []\n",
    "for key in ech_groups.groups.keys():\n",
    "    try: \n",
    "        diff_list.append(key)\n",
    "        len_list.append(len(ech_groups.get_group(key)))\n",
    "    except:\n",
    "        continue\n",
    "        \n",
    "all_list = []\n",
    "for i in range(0,len(len_list)):\n",
    "    all_list.extend([diff_list[i]]*len_list[i])"
   ]
  },
  {
   "cell_type": "code",
   "execution_count": 36,
   "id": "14ece906",
   "metadata": {},
   "outputs": [
    {
     "name": "stdout",
     "output_type": "stream",
     "text": [
      "Range of differences between forecast and quotes is: 4.33  to  4.970000000000001\n"
     ]
    }
   ],
   "source": [
    "# Range of differences between forecast and quotes\n",
    "print('Range of differences between forecast and quotes is:', min(diff_list), ' to ', max(diff_list))"
   ]
  },
  {
   "cell_type": "code",
   "execution_count": 10,
   "id": "874dd9fd",
   "metadata": {},
   "outputs": [
    {
     "data": {
      "image/png": "[encoded data removed]",
      "text/plain": [
       "<Figure size 432x288 with 1 Axes>"
      ]
     },
     "metadata": {
      "needs_background": "light"
     },
     "output_type": "display_data"
    }
   ],
   "source": [
    "# Visualizing the differences between forecast and quotes\n",
    "plt.scatter(len_list, diff_list)\n",
    "plt.ylabel('Differences in quote cost and forecasted cost ($)')\n",
    "plt.xlabel('Number of builds')\n",
    "plt.title('Number of builds for each difference')\n",
    "plt.show()"
   ]
  },
  {
   "cell_type": "code",
   "execution_count": 8,
   "id": "15bba31b",
   "metadata": {},
   "outputs": [
    {
     "name": "stdout",
     "output_type": "stream",
     "text": [
      "The difference b/w true and forecasted quotes that is most likely is 4.4799999999999995\n"
     ]
    }
   ],
   "source": [
    "# Estimate the difference between forecast and quote that is most likely to occur (using Kernel Density Estimation)\n",
    "inp = np.array(all_list)[~np.isnan(all_list)].reshape(-1, 1)\n",
    "if len(inp) != 0:\n",
    "    kde = KernelDensity(kernel='gaussian', bandwidth=3).fit(inp)\n",
    "    log_dens = kde.score_samples(inp)\n",
    "    p_dens_list = list(np.exp(log_dens))\n",
    "    print('The difference b/w true and forecasted quotes that is most likely is', inp[p_dens_list.index(max(p_dens_list))][0])"
   ]
  }
 ],
 "metadata": {
  "kernelspec": {
   "display_name": "Python 3 (ipykernel)",
   "language": "python",
   "name": "python3"
  },
  "language_info": {
   "codemirror_mode": {
    "name": "ipython",
    "version": 3
   },
   "file_extension": ".py",
   "mimetype": "text/x-python",
   "name": "python",
   "nbconvert_exporter": "python",
   "pygments_lexer": "ipython3",
   "version": "3.9.12"
  }
 },
 "nbformat": 4,
 "nbformat_minor": 5
}
