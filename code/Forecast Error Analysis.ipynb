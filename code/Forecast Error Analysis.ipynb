{
 "cells": [
  {
   "cell_type": "code",
   "execution_count": 159,
   "id": "962941d9",
   "metadata": {},
   "outputs": [],
   "source": [
    "import pandas as pd\n",
    "import numpy as np\n",
    "import matplotlib.pyplot as plt\n",
    "import copy\n",
    "from itertools import zip_longest\n",
    "from sklearn.neighbors import KernelDensity\n",
    "from statsmodels.tsa.api import SimpleExpSmoothing\n",
    "from textwrap import wrap\n",
    "from scipy import stats"
   ]
  },
  {
   "attachments": {},
   "cell_type": "markdown",
   "id": "b2635e04",
   "metadata": {},
   "source": [
    "# Calculating Forecast Errors\n",
    "\n",
    "We have multiple demand signals that serve the purpose of demand forecast. In this analysis we will be using JD as our forecast signal. We will be looking at errors on this forecast signal across all the products we plan for. While calculating the forecast error, we will collect the following metrics. \n",
    "\n",
    "nomenclature:\n",
    "<br>\n",
    "\n",
    "$lag\\_x\\_forecast$: the quantity forecasted for the week x weeks ago  \n",
    "$A_t$: Actual Orders placed at time t  \n",
    "$F_t$: Forecast for time t  \n",
    "$deviation_t = F_t - A_t$  \n",
    "$abs\\_deviation_t = |deviation_t|$  \n",
    "$ap\\_error = {\\frac{abs\\_deviation_t}{A_t}}$  \n",
    "$p\\_error = {\\frac{\\_deviation_t}{A_t}}$  \n",
    "$p\\_error\\_f = {\\frac{\\_deviation_t}{F_t}}$  \n",
    "$sap\\_error = {\\frac{F_t}{F_t + A_t}}$  \n",
    "$cum\\_F_t = \\sum_{i=1}^t F_i$  \n",
    "$cum\\_A_t = \\sum_{i=1}^t A_i$  \n",
    "$cum\\_deviation_t = cum\\_F_t - cum\\_A_t$  \n",
    "$abs\\_cum\\_deviation_t = |cum\\_deviation_t|$  \n",
    "$cum\\_ap\\_error = {\\frac{abs\\_deviation_t}{cum\\_A_t}}$  \n",
    "$cum\\_sap\\_error = {\\frac{cum\\_F_t}{cum\\_F_t + cum\\_A_t}}$  \n",
    "\n",
    "\n",
    "**ap_error (Absolute Percentage Error)**: The absolute percentage error metric helps us see how different the absolute difference between actual orders placed and forecasted demand are with respect to the actual orders placed per time. This metric will have the inherent problem of having huge quantities when the error made in forecast is quite a few orders of magnitude times that of the actuals.\n",
    "\n",
    "**sap_error (Scaled Mean Absolute Percentage Error)**: The scaled absolute percentage error metric helps us see the error made in forecast within the range of 0 to 1, since the metric uses division by sum of forecast and actuals. The way to interpret this error metric is that if the number is 0.5 we forecasted accurately, if it was greater than 0.5, we overcalled our forecast, ie. forecast is more than actuals, and if it was less than 0.5 we undercalled our forecast.\n",
    "\n",
    "**cum_ap_error (Cumulative Absolute Percentage Error)**: Orders will not be placed every week, hence there will be zeros in those weeks for orders, while at the same time demand might be forecasted for those weeks. Inorder to handle this situation, it is best to calculate error in terms of the cumulative horizon as expressed in the equation above.\n",
    "\n",
    "**cum_sap_error (Cumulative Absolute Percentage Error)**: Similar to the rationale above, we would benefit with a metric that captures the cumulative error for this normalized error metric, whose equation is shared above."
   ]
  },
  {
   "attachments": {},
   "cell_type": "markdown",
   "id": "9c2609bc",
   "metadata": {},
   "source": [
    "# Forecast errors vs. work week\n",
    "Analyzing the weighted mean of forecast error in each work week (across all product families)"
   ]
  },
  {
   "cell_type": "code",
   "execution_count": 2,
   "id": "fc1201d3",
   "metadata": {},
   "outputs": [],
   "source": [
    "# Functions\n",
    "def gaussian(x, mu, sig):\n",
    "    return np.exp(-np.power(x - mu, 2.) / (2 * np.power(sig, 2.)))\n",
    "\n",
    "\n",
    "\n",
    "def create_weights(vals, weight_type):\n",
    "    if weight_type == 'right skewed':\n",
    "        weights = [np.sqrt(x) for x in range(1, len(vals)+1)]\n",
    "    elif weight_type == 'symmetric':\n",
    "        x_list = []\n",
    "        # Number of values is even\n",
    "        if len(vals) % 2 == 0:\n",
    "            for i in range(0, int(len(vals)/2)):\n",
    "                x_list.append(i)\n",
    "                x_list.append(-1*i)\n",
    "        # Number of values is odd\n",
    "        else:\n",
    "            x_list.append(0)\n",
    "            for i in range(1, int((len(vals)-1)/2)+1):\n",
    "                x_list.append(i)\n",
    "                x_list.append(-1*i)\n",
    "        x_list.sort()\n",
    "        weights = [2*gaussian(x, mu = 0, sig = 2) for x in x_list]\n",
    "    elif weight_type == 'none':\n",
    "        weights = [1]*len(vals)\n",
    "    \n",
    "    return weights\n",
    "        \n",
    "        \n",
    "\n",
    "def weighted_mean(vals, weight_type, non_zero, print_cond):\n",
    "    # Initialize the sums (numerator and denominator for mean)\n",
    "    vals_sum = 0\n",
    "    weights_sum = 0\n",
    "    \n",
    "    # Use non-zero and/or non-NaN values only for mean\n",
    "    if non_zero == 'True':\n",
    "        vals = [val for val in vals if ((val != 0) & np.isfinite(val))]\n",
    "    else:\n",
    "        vals = [val for val in vals if np.isfinite(val)]\n",
    "        \n",
    "    # Compute weights after finalizing the list of values to use\n",
    "    weights = create_weights(vals, weight_type)\n",
    "    \n",
    "    # Check if the number of values and weights are the same, if not, terminate computation\n",
    "    if len(weights) != len(vals):\n",
    "        print('Number of values and weights is unequal; terminating weighted mean computation')\n",
    "        return\n",
    "    \n",
    "    # Compute the sums (numerator and denominator for mean)\n",
    "    for i in range(0, len(vals)):\n",
    "        if print_cond == 'True':\n",
    "            print('Error value is not NaN or infinity')\n",
    "        vals_sum = vals_sum + (vals[i]*weights[i])\n",
    "        weights_sum = weights_sum + weights[i]       \n",
    "    if weights_sum != 0:\n",
    "        wm = vals_sum/weights_sum\n",
    "    else:\n",
    "        wm = np.nan\n",
    "    \n",
    "    return wm\n",
    "\n",
    "\n",
    "\n",
    "def date_sum(date, incr):\n",
    "    date = int(date)\n",
    "    incr = int(incr)\n",
    "    sum_naive = date + incr\n",
    "    if int(str(sum_naive)[4:6]) > 52:\n",
    "        diff = str(abs(52 - int(str(sum_naive)[4:6])))\n",
    "        if len(diff) == 1:\n",
    "            diff = '0'+diff\n",
    "        sum_true = str(int(str(date)[0:4])+1)+diff\n",
    "    else: \n",
    "        sum_true = sum_naive\n",
    "    return int(sum_true)\n",
    "\n",
    "\n",
    "\n",
    "def list_transpose(list_of_lists):\n",
    "    lens = []\n",
    "    for list_entry in list_of_lists:\n",
    "        lens.append(len(list_entry))\n",
    "\n",
    "    trans_list_of_lists = []\n",
    "    for i in range(0,max(lens)):\n",
    "        new_list = []\n",
    "        for list_entry in list_of_lists:\n",
    "            try:\n",
    "                new_list.append(list_entry[i])\n",
    "            except:\n",
    "                continue\n",
    "        trans_list_of_lists.append(new_list)\n",
    "    return trans_list_of_lists\n",
    "\n",
    "\n",
    "\n",
    "def create_periods(num_vals, period_len, period_name):\n",
    "    num_periods = np.round(num_vals/period_len)\n",
    "    period_list = []\n",
    "    for i in range(0, int(num_periods)+1):\n",
    "        if period_name == 'words':\n",
    "            period = 'period_'+str(i)\n",
    "            period_list.extend([period]*period_len)\n",
    "        elif period_name == 'numbers':\n",
    "            period = str(i)\n",
    "            period_list.extend([period]*period_len)\n",
    "    period_list = period_list[0:num_vals]\n",
    "    return period_list\n",
    "\n",
    "\n",
    "def create_single_period(num_vals, period_start_index, period_len, period_name):\n",
    "    period_list = [0]*num_vals\n",
    "    if period_name == 'words':\n",
    "        period_list[period_start_index:period_start_index+period_len] = ['period_present']*period_len\n",
    "    elif period_name == 'numbers':\n",
    "        period_list[period_start_index:period_start_index+period_len] = [1]*period_len\n",
    "    return period_list\n",
    "\n"
   ]
  },
  {
   "cell_type": "code",
   "execution_count": 3,
   "id": "0a7135dc",
   "metadata": {},
   "outputs": [],
   "source": [
    "# Pandas view\n",
    "pd.set_option('display.max_rows', None)\n",
    "pd.set_option('display.max_rows', 15)"
   ]
  },
  {
   "cell_type": "code",
   "execution_count": 4,
   "id": "394bf418",
   "metadata": {},
   "outputs": [],
   "source": [
    "# HCF demand or JD\n",
    "forecast_vs_order_df = pd.read_pickle('./forecast_hcf_vs_order_df.pkl')  \n",
    "forecast_vs_order_df = pd.concat([pd.read_pickle('./forecast_jd_vs_order_df_part1.pkl'), pd.read_pickle('./forecast_jd_vs_order_df_part2.pkl')])"
   ]
  },
  {
   "cell_type": "code",
   "execution_count": 5,
   "id": "d1a7e963",
   "metadata": {},
   "outputs": [],
   "source": [
    "# Creating dataframe with forecast data only\n",
    "forecasts_df = forecast_vs_order_df[['group_name', 'work_week', 'ssbi_load_ww', 'actual_order', 'forecast']]\n",
    "forecasts_df = forecasts_df.rename(columns={'group_name': 'product_group', 'work_week': 'forecast_for_ww', \n",
    "                                'ssbi_load_ww': 'forecast_made_ww'})\n",
    "forecasts_df.reset_index(drop = True, inplace = True)"
   ]
  },
  {
   "cell_type": "code",
   "execution_count": 6,
   "id": "5a5101c0",
   "metadata": {},
   "outputs": [],
   "source": [
    "# Removing unecessary data: same dates for forecast and actual orders, zero values for forecast\n",
    "forecasts_df = forecasts_df[(forecasts_df['forecast_made_ww'] != forecasts_df['forecast_for_ww']) & (forecasts_df['forecast'] != 0) & \n",
    "                            (forecasts_df['actual_order'] != 0)]\n",
    "forecasts_df.reset_index(drop = True, inplace = True)"
   ]
  },
  {
   "cell_type": "code",
   "execution_count": 51,
   "id": "3b32350a",
   "metadata": {},
   "outputs": [],
   "source": [
    "# Dimensionality reduction #1: reducing all forecasts for a given ww to a single value using weighted mean: \n",
    "#       prod_a: [forecast_ww1, forecast_ww2, ....], \n",
    "#       prod_b: [forecast_ww1, forecast_ww2, ....], and so on\n",
    "# Result is a df where for every product, every week of its PLC has a single forecast and actual associated with it\n",
    "\n",
    "product_ww_group_df = forecasts_df.groupby(['product_group', 'forecast_for_ww'])\n",
    "forecasts_df_red = pd.DataFrame()\n",
    "\n",
    "products_list = []\n",
    "forecasts_list = []\n",
    "actuals_list = []\n",
    "ww_list = []\n",
    "\n",
    "for product_group in forecasts_df['product_group'].unique():\n",
    "    for ww in forecasts_df[forecasts_df['product_group'] == product_group]['forecast_for_ww'].sort_values().unique():\n",
    "        df = product_ww_group_df.get_group((product_group, ww)).sort_values(by = 'forecast_made_ww')\n",
    "        products_list.append(product_group)\n",
    "        forecasts_list.append(weighted_mean(vals = list(df['forecast']), weight_type = 'right skewed', \n",
    "                                            non_zero = 'True', print_cond = 'False'))\n",
    "        #forecasts_list.append(np.mean(df['forecast']))\n",
    "        actuals_list.append(np.max(df['actual_order']))\n",
    "        ww_list.append(ww)\n",
    "        \n",
    "forecasts_df_red['product_group'] = products_list\n",
    "forecasts_df_red['forecast'] = forecasts_list\n",
    "forecasts_df_red['actual_order'] = actuals_list\n",
    "forecasts_df_red['forecast_for_ww'] = ww_list"
   ]
  },
  {
   "cell_type": "code",
   "execution_count": null,
   "id": "22fb2267",
   "metadata": {},
   "outputs": [],
   "source": [
    "# Checking if demand follows a normal distribution\n",
    "p_values = []\n",
    "for product_group in forecasts_df_red['product_group'].unique():\n",
    "    forecasts_df_red[forecasts_df_red['product_group'] == product_group]['actual_order'].hist(bins = 100)\n",
    "    try:\n",
    "        shapiro_test = stats.shapiro(list(forecasts_df_red[forecasts_df_red['product_group'] == product_group]['actual_order']))\n",
    "        p_values.append(shapiro_test.pvalue)\n",
    "    except:\n",
    "        continue\n",
    "    plt.show()"
   ]
  },
  {
   "cell_type": "code",
   "execution_count": 170,
   "id": "cd73b5d1",
   "metadata": {},
   "outputs": [
    {
     "data": {
      "text/plain": [
       "0.0011497738501009718"
      ]
     },
     "execution_count": 170,
     "metadata": {},
     "output_type": "execute_result"
    }
   ],
   "source": [
    "# Calculate average p-value from Shapiro Wilk test for normality\n",
    "p_values.sort()\n",
    "np.mean(p_values[0:-15])"
   ]
  },
  {
   "cell_type": "code",
   "execution_count": 8,
   "id": "84b8674f",
   "metadata": {},
   "outputs": [],
   "source": [
    "# Creating a static set of periods (data wastage)\n",
    "forecasts_df_red = forecasts_df_red.sort_values(by = ['product_group', 'forecast_for_ww'])\n",
    "forecasts_df_red.reset_index(drop = True, inplace = True)\n",
    "all_products_periods = []\n",
    "for product_group in forecasts_df_red['product_group'].unique():\n",
    "    num_vals = len(forecasts_df_red[(forecasts_df_red['product_group'] == product_group)])\n",
    "    all_products_periods.extend(create_periods(num_vals, period_len = 3, period_name = 'words'))\n",
    "forecasts_df_red['periods'] = all_products_periods"
   ]
  },
  {
   "cell_type": "code",
   "execution_count": 9,
   "id": "7262b032",
   "metadata": {},
   "outputs": [],
   "source": [
    "# Errors for static set of periods (data wastage)\n",
    "all_products_periods_error = []\n",
    "for product_group in forecasts_df_red['product_group'].unique():\n",
    "    product_periods_error = []\n",
    "    for period in forecasts_df_red[(forecasts_df_red['product_group'] == product_group)]['periods'].unique():\n",
    "        product_df = forecasts_df_red[(forecasts_df_red['product_group'] == product_group) & (forecasts_df_red['periods'] == period)]\n",
    "        product_periods_error.append(((product_df['forecast'].sum() - product_df['actual_order'].sum())/product_df['actual_order'].sum())*100)\n",
    "    all_products_periods_error.append(product_periods_error)"
   ]
  },
  {
   "cell_type": "code",
   "execution_count": null,
   "id": "3cc9da39",
   "metadata": {},
   "outputs": [],
   "source": [
    "# Errors for dynamic set of periods (less data wastage)\n",
    "all_products_periods_error = []\n",
    "period_len = 3\n",
    "for product_group in forecasts_df_red['product_group'].unique():\n",
    "    product_df = forecasts_df_red[(forecasts_df_red['product_group'] == product_group)]\n",
    "    if ((len(product_df) > 100)):\n",
    "        product_periods_error = []\n",
    "        for i in range(0,len(product_df)-period_len):\n",
    "            product_df.loc[:,'periods'] = create_single_period(num_vals = len(product_df), period_start_index = i, \n",
    "                                                               period_len = period_len, period_name = 'numbers')\n",
    "            period_df = product_df[product_df['periods'] == 1]\n",
    "            product_periods_error.append(((period_df['forecast'].sum() - period_df['actual_order'].sum())/period_df['actual_order'].sum())*100)\n",
    "        all_products_periods_error.append(product_periods_error)"
   ]
  },
  {
   "cell_type": "code",
   "execution_count": 210,
   "id": "ea59988f",
   "metadata": {},
   "outputs": [],
   "source": [
    "# RMSE of all products and periods\n",
    "def flatten(l):\n",
    "    return [item for sublist in l for item in sublist]\n",
    "\n",
    "rmse = np.sqrt(((np.array(flatten(all_products_periods_error))) ** 2).mean())\n",
    "me = np.array(flatten(all_products_periods_error)).mean()"
   ]
  },
  {
   "cell_type": "code",
   "execution_count": 200,
   "id": "614def8f",
   "metadata": {},
   "outputs": [
    {
     "data": {
      "text/plain": [
       "Text(0, 0.5, 'forecast errors for each SSD program')"
      ]
     },
     "execution_count": 200,
     "metadata": {},
     "output_type": "execute_result"
    },
    {
     "data": {
      "image/png": "[encoded data removed]",
      "text/plain": [
       "<Figure size 432x288 with 1 Axes>"
      ]
     },
     "metadata": {
      "needs_background": "light"
     },
     "output_type": "display_data"
    }
   ],
   "source": [
    "# Superimposing all product errors per ww\n",
    "for product_periods_error in all_products_periods_error:\n",
    "    # Display errors per product\n",
    "    plt.scatter(x = range(0, len(product_periods_error)), y = product_periods_error, s = 0.2)\n",
    "plt.ylim([-100, 300])\n",
    "plt.xlabel('standardized periods (start to end)')\n",
    "plt.ylabel('forecast errors for each SSD program')"
   ]
  },
  {
   "cell_type": "code",
   "execution_count": 96,
   "id": "7b80735d",
   "metadata": {},
   "outputs": [],
   "source": [
    "# Restructuring of result from dimensionality reduction #1:\n",
    "#       [[err_ww1_prod_a, err_ww1_prod_b, err_ww1_prod_c, ......],\n",
    "#        [err_ww2_prod_a, err_ww2_prod_b, err_ww2_prod_c, ......],\n",
    "#        ....]\n",
    "# Result is an error vector for each ww\n",
    "\n",
    "len_list = []\n",
    "for product_periods_error in all_products_periods_error:\n",
    "    len_list.append(len(product_periods_error))\n",
    "\n",
    "all_periods_error = []\n",
    "for i in range(0,max(len_list)):\n",
    "    error_list = []\n",
    "    for product_periods_error in all_products_periods_error:\n",
    "        try:\n",
    "            error_list.append(product_periods_error[i])\n",
    "        except:\n",
    "            continue\n",
    "    all_periods_error.append(error_list)"
   ]
  },
  {
   "cell_type": "code",
   "execution_count": 98,
   "id": "31bd0d05",
   "metadata": {},
   "outputs": [
    {
     "name": "stdout",
     "output_type": "stream",
     "text": [
      "Error for standardized period 0 is:  -8.935573336112947\n",
      "Error for standardized period 1 is:  16.274908603509875\n",
      "Error for standardized period 2 is:  9.983490080245296\n",
      "Error for standardized period 3 is:  22.73052203065218\n",
      "Error for standardized period 4 is:  16.12507969808751\n",
      "Error for standardized period 5 is:  26.821980569756953\n",
      "Error for standardized period 6 is:  51.4957348370832\n",
      "Error for standardized period 7 is:  54.64856408349549\n",
      "Error for standardized period 8 is:  109.15443334815275\n",
      "Error for standardized period 9 is:  107.72427975161337\n",
      "Error for standardized period 10 is:  112.94410006193566\n",
      "Error for standardized period 11 is:  122.87094185923185\n",
      "Error for standardized period 12 is:  164.92932480944978\n",
      "Error for standardized period 13 is:  241.82861159465637\n",
      "Error for standardized period 14 is:  200.49268232719976\n",
      "Error for standardized period 15 is:  205.27764500374548\n",
      "Error for standardized period 16 is:  234.02103468392096\n",
      "Error for standardized period 17 is:  208.9649060533755\n",
      "Error for standardized period 18 is:  266.51087740085944\n",
      "Error for standardized period 19 is:  220.09779470825373\n",
      "Error for standardized period 20 is:  164.2866943308\n",
      "Error for standardized period 21 is:  115.64642250012116\n",
      "Error for standardized period 22 is:  52.720865499297915\n",
      "Error for standardized period 23 is:  62.582169197938285\n",
      "Error for standardized period 24 is:  116.3356125916448\n",
      "Error for standardized period 25 is:  67.38102482934649\n",
      "Error for standardized period 26 is:  90.22317778968797\n",
      "Error for standardized period 27 is:  74.53988970974048\n",
      "Error for standardized period 28 is:  31.148026714329337\n",
      "Error for standardized period 29 is:  32.810870633302606\n",
      "Error for standardized period 30 is:  42.13738282788\n",
      "Error for standardized period 31 is:  15.181053296491578\n",
      "Error for standardized period 32 is:  39.66401254170746\n",
      "Error for standardized period 33 is:  73.55888240536413\n",
      "Error for standardized period 34 is:  23.774539994836474\n",
      "Error for standardized period 35 is:  0.7735192451425723\n",
      "Error for standardized period 36 is:  7.621508193307766\n",
      "Error for standardized period 37 is:  49.11663914465415\n",
      "Error for standardized period 38 is:  62.14860745016066\n",
      "Error for standardized period 39 is:  43.40976894444081\n",
      "Error for standardized period 40 is:  60.790527725505136\n",
      "Error for standardized period 41 is:  43.52933048728907\n",
      "Error for standardized period 42 is:  37.70099418431032\n",
      "Error for standardized period 43 is:  53.01518235699887\n",
      "Error for standardized period 44 is:  29.33587791631986\n",
      "Error for standardized period 45 is:  16.199438971919605\n",
      "Error for standardized period 46 is:  16.28147277355093\n",
      "Error for standardized period 47 is:  12.480354376656486\n",
      "Error for standardized period 48 is:  10.52197597586166\n",
      "Error for standardized period 49 is:  5.71560384352872\n",
      "Error for standardized period 50 is:  11.260609753689693\n",
      "Error for standardized period 51 is:  17.474617495939363\n",
      "Error for standardized period 52 is:  34.209697099307434\n",
      "Error for standardized period 53 is:  28.168519171080703\n",
      "Error for standardized period 54 is:  25.573563088586056\n",
      "Error for standardized period 55 is:  25.18575210923511\n",
      "Error for standardized period 56 is:  32.22541400335902\n",
      "Error for standardized period 57 is:  26.43433294503488\n",
      "Error for standardized period 58 is:  14.60979996195481\n",
      "Error for standardized period 59 is:  26.927417291591198\n",
      "Error for standardized period 60 is:  22.741541902068725\n",
      "Error for standardized period 61 is:  16.64043104999022\n",
      "Error for standardized period 62 is:  36.789316930465006\n",
      "Error for standardized period 63 is:  17.076972955029806\n",
      "Error for standardized period 64 is:  45.80437137850868\n",
      "Error for standardized period 65 is:  92.98547594062728\n",
      "Error for standardized period 66 is:  78.40302249122014\n",
      "Error for standardized period 67 is:  74.63938602402527\n",
      "Error for standardized period 68 is:  41.01748850290447\n",
      "Error for standardized period 69 is:  40.20663653196548\n",
      "Error for standardized period 70 is:  44.66230066878486\n",
      "Error for standardized period 71 is:  37.07728278193897\n",
      "Error for standardized period 72 is:  54.32452435071062\n",
      "Error for standardized period 73 is:  43.048330803895\n",
      "Error for standardized period 74 is:  74.80748367265934\n",
      "Error for standardized period 75 is:  114.24380065536245\n",
      "Error for standardized period 76 is:  136.0709284724461\n",
      "Error for standardized period 77 is:  154.5934410291258\n",
      "Error for standardized period 78 is:  207.69769361776423\n",
      "Error for standardized period 79 is:  185.55764338186438\n",
      "Error for standardized period 80 is:  209.34241631180893\n",
      "Error for standardized period 81 is:  262.63779112761915\n",
      "Error for standardized period 82 is:  134.14271195527903\n",
      "Error for standardized period 83 is:  102.14528925365947\n",
      "Error for standardized period 84 is:  78.75742662840014\n",
      "Error for standardized period 85 is:  75.3508340726037\n",
      "Error for standardized period 86 is:  87.45201044323157\n",
      "Error for standardized period 87 is:  72.37272032244454\n",
      "Error for standardized period 88 is:  92.18327468690774\n",
      "Error for standardized period 89 is:  49.10063408915498\n",
      "Error for standardized period 90 is:  46.984433058936524\n",
      "Error for standardized period 91 is:  84.36944954461258\n",
      "Error for standardized period 92 is:  70.0094024885905\n",
      "Error for standardized period 93 is:  87.34643656923814\n",
      "Error for standardized period 94 is:  88.8998447170761\n",
      "Error for standardized period 95 is:  82.72784490125666\n",
      "Error for standardized period 96 is:  88.90468882630125\n",
      "Error for standardized period 97 is:  73.9877630764022\n",
      "Error for standardized period 98 is:  41.167077860875445\n",
      "Error for standardized period 99 is:  68.9263729440665\n",
      "Error for standardized period 100 is:  77.49223304726597\n",
      "Error for standardized period 101 is:  326.3660901383279\n",
      "Error for standardized period 102 is:  698.8131087312746\n",
      "Error for standardized period 103 is:  328.0884139120703\n",
      "Error for standardized period 104 is:  1006.1339236076201\n",
      "Error for standardized period 105 is:  1016.9028978185596\n"
     ]
    },
    {
     "data": {
      "image/png": "[encoded data removed]",
      "text/plain": [
       "<Figure size 432x288 with 1 Axes>"
      ]
     },
     "metadata": {
      "needs_background": "light"
     },
     "output_type": "display_data"
    }
   ],
   "source": [
    "# Dimensionality reduction #2: reduce errors per ww to a single value using using percentiles\n",
    "#     ww_1: x percentile of [err_ww1_prod_a, err_ww1_prod_b, err_ww1_prod_c, ......],\n",
    "#     ww_2: x percentile of [err_ww2_prod_a, err_ww2_prod_b, err_ww2_prod_c, ......], and so on\n",
    "\n",
    "standardized_period = 0\n",
    "error_list = []\n",
    "for period_error_list in all_periods_error:\n",
    "    inp = np.array(period_error_list)[~np.isnan(period_error_list)]\n",
    "    if len(inp) != 0:\n",
    "        error_list.append(np.percentile(inp, 70))\n",
    "        print('70th percentile of error for standardized period', standardized_period, 'is: ', np.percentile(inp, 70))\n",
    "        standardized_period = standardized_period + 1\n",
    "        \n",
    "# Printing error per work week\n",
    "plt.scatter(range(0,len(error_list)), error_list, s = 2)\n",
    "plt.xlabel('standardized periods (start to end)')\n",
    "plt.ylabel('70th percentile of forecast errors')\n",
    "plt.ylim([-100, 300])\n",
    "plt.show()"
   ]
  },
  {
   "cell_type": "code",
   "execution_count": 99,
   "id": "50b3a12e",
   "metadata": {},
   "outputs": [
    {
     "data": {
      "image/png": "[encoded data removed]",
      "text/plain": [
       "<Figure size 432x288 with 1 Axes>"
      ]
     },
     "metadata": {
      "needs_background": "light"
     },
     "output_type": "display_data"
    }
   ],
   "source": [
    "# Superimposing all product errors per ww\n",
    "for product_periods_error in all_products_periods_error:\n",
    "    # Display errors per product\n",
    "    plt.scatter(x = range(0, len(product_periods_error)), y = product_periods_error, s = 0.1)\n",
    "# Percentile error for all product groups per ww\n",
    "plt.scatter(range(0,len(error_list)), error_list, s = 2)\n",
    "plt.xlabel('standardized periods (start to end)')\n",
    "plt.ylabel('70th percentile of forecast errors')\n",
    "plt.ylim([-100, 300])\n",
    "plt.show()"
   ]
  },
  {
   "cell_type": "code",
   "execution_count": null,
   "id": "5c0a3e2d",
   "metadata": {},
   "outputs": [],
   "source": [
    "# Dimensionality reduction #2: reduce errors per ww to a single value using using kernel density estimation\n",
    "#     ww_1: max probability of [err_ww1_prod_a, err_ww1_prod_b, err_ww1_prod_c, ......],\n",
    "#     ww_2: max probability of [err_ww2_prod_a, err_ww2_prod_b, err_ww2_prod_c, ......], and so on\n",
    "\n",
    "standardized_period = 0\n",
    "error_list = []\n",
    "for period_error_list in all_periods_error:\n",
    "    inp = np.array(period_error_list)[~np.isnan(period_error_list)].reshape(-1, 1)\n",
    "    period_error_list_red = []\n",
    "    if len(inp) >= 4:\n",
    "        kde = KernelDensity(kernel='gaussian', bandwidth=3).fit(inp)\n",
    "        kde_scores = list(np.exp(kde.score_samples(inp)))\n",
    "        print('Most likely error for standardized period', standardized_period, 'is:', inp[kde_scores.index(max(kde_scores))][0])\n",
    "        period_error_list_red.append(inp[kde_scores.index(max(kde_scores))][0])\n",
    "        kde_scores.remove(max(kde_scores))\n",
    "        print('Second most likely error for standardized period', standardized_period, 'is:', inp[kde_scores.index(max(kde_scores))][0])\n",
    "        period_error_list_red.append(inp[kde_scores.index(max(kde_scores))][0])\n",
    "        kde_scores.remove(max(kde_scores))\n",
    "        print('Third most likely error for standardized period', standardized_period, 'is:', inp[kde_scores.index(max(kde_scores))][0])\n",
    "        period_error_list_red.append(inp[kde_scores.index(max(kde_scores))][0])\n",
    "    standardized_period = standardized_period + 1\n",
    "    error_list.append(period_error_list_red)\n",
    "\n",
    "# Visualising error per period\n",
    "i = 0\n",
    "for perior_error_list_red in error_list:\n",
    "    plt.scatter([i]*len(perior_error_list_red), perior_error_list_red, s = 2)\n",
    "    i = i + 1\n",
    "plt.xlabel('standardized period (start to end)')\n",
    "plt.ylabel('forecast error with 1st, 2nd and 3rd highest probabilities (kde)')\n",
    "plt.show()"
   ]
  },
  {
   "cell_type": "code",
   "execution_count": 214,
   "id": "f9065255",
   "metadata": {},
   "outputs": [
    {
     "data": {
      "image/png": "[encoded data removed]",
      "text/plain": [
       "<Figure size 432x288 with 1 Axes>"
      ]
     },
     "metadata": {
      "needs_background": "light"
     },
     "output_type": "display_data"
    }
   ],
   "source": [
    "# Superimposing all product errors per ww\n",
    "for product_periods_error in all_products_periods_error:\n",
    "    # Display errors per product\n",
    "    plt.scatter(x = range(0, len(product_periods_error)), y = product_periods_error, s = 0.1)\n",
    "# kde error for all product groups per ww\n",
    "i = 0\n",
    "for perior_error_list_red in error_list:\n",
    "    plt.scatter([i]*len(perior_error_list_red), perior_error_list_red, s = 1, c = 'purple')\n",
    "    i = i + 1\n",
    "plt.xlabel('standardized period (start to end)')\n",
    "plt.ylabel('forecast error with highest prob. (kde)')\n",
    "plt.hlines(y = me, xmin = 0, xmax = 105, linestyles='--', label = 'Avg. error = 90.102')\n",
    "\n",
    "plt.legend(loc = \"upper right\")\n",
    "plt.ylim([-100, 300])\n",
    "plt.show()"
   ]
  },
  {
   "cell_type": "code",
   "execution_count": 157,
   "id": "e0d4ba3d",
   "metadata": {},
   "outputs": [
    {
     "name": "stdout",
     "output_type": "stream",
     "text": [
      "work week is: 0 error matrix is: [[], [-18.684999867278957, -16.50538112603398, -18.684999867278957], [6.443119721808246, 6.738883513524874, -11.334467914706172]]\n",
      "work week is: 1 error matrix is: [[-18.684999867278957, -16.50538112603398, -18.684999867278957], [6.443119721808246, 6.738883513524874, -11.334467914706172], [-8.441583033516382, 17.98427152317881, -7.332442149903202]]\n",
      "work week is: 2 error matrix is: [[6.443119721808246, 6.738883513524874, -11.334467914706172], [-8.441583033516382, 17.98427152317881, -7.332442149903202], [-20.046771666868526, -2.7347536277198974, 12.132117527862203]]\n",
      "work week is: 3 error matrix is: [[-8.441583033516382, 17.98427152317881, -7.332442149903202], [-20.046771666868526, -2.7347536277198974, 12.132117527862203], [16.82312775604961, 16.82312775604961, 16.05231651486121]]\n",
      "work week is: 4 error matrix is: [[-20.046771666868526, -2.7347536277198974, 12.132117527862203], [16.82312775604961, 16.82312775604961, 16.05231651486121], [-19.910467724293245, -16.55888236314061, -21.457450587630305]]\n",
      "work week is: 5 error matrix is: [[16.82312775604961, 16.82312775604961, 16.05231651486121], [-19.910467724293245, -16.55888236314061, -21.457450587630305], [33.21314408148767, 33.21314408148767, 28.203473193543736]]\n",
      "work week is: 6 error matrix is: [[-19.910467724293245, -16.55888236314061, -21.457450587630305], [33.21314408148767, 33.21314408148767, 28.203473193543736], [43.30113394444308, 43.30113394444308, 44.52164529837119]]\n",
      "work week is: 7 error matrix is: [[33.21314408148767, 33.21314408148767, 28.203473193543736], [43.30113394444308, 43.30113394444308, 44.52164529837119], [36.12538840066034, 15.310995742245447, 15.310995742245447]]\n",
      "work week is: 8 error matrix is: [[43.30113394444308, 43.30113394444308, 44.52164529837119], [36.12538840066034, 15.310995742245447, 15.310995742245447], [30.640954639542368, 34.30813455805327, 103.20188708799188]]\n",
      "work week is: 9 error matrix is: [[36.12538840066034, 15.310995742245447, 15.310995742245447], [30.640954639542368, 34.30813455805327, 103.20188708799188], [112.59500927549774, 66.5832591287248, 916.562327091834]]\n",
      "work week is: 10 error matrix is: [[30.640954639542368, 34.30813455805327, 103.20188708799188], [112.59500927549774, 66.5832591287248, 916.562327091834], [98.24931449598108, 98.23407378737546, 98.23407378737546]]\n",
      "work week is: 11 error matrix is: [[112.59500927549774, 66.5832591287248, 916.562327091834], [98.24931449598108, 98.23407378737546, 98.23407378737546], [87.99648004257851, 57.56000120224307, 30.466190487223315]]\n",
      "work week is: 12 error matrix is: [[98.24931449598108, 98.23407378737546, 98.23407378737546], [87.99648004257851, 57.56000120224307, 30.466190487223315], [105.15369609599601, 105.12431328670206, 110.71794761474717]]\n",
      "work week is: 13 error matrix is: [[87.99648004257851, 57.56000120224307, 30.466190487223315], [105.15369609599601, 105.12431328670206, 110.71794761474717], [78.9306073648773, 40.80024559215173, 240.45455308123636]]\n",
      "work week is: 14 error matrix is: [[105.15369609599601, 105.12431328670206, 110.71794761474717], [78.9306073648773, 40.80024559215173, 240.45455308123636], [241.28535992436403, -11.565672221831393, 16.334681465691922]]\n",
      "work week is: 15 error matrix is: [[78.9306073648773, 40.80024559215173, 240.45455308123636], [241.28535992436403, -11.565672221831393, 16.334681465691922], [140.17449777285728, 185.20997725518487, 275.0188946550032]]\n",
      "work week is: 16 error matrix is: [[241.28535992436403, -11.565672221831393, 16.334681465691922], [140.17449777285728, 185.20997725518487, 275.0188946550032], [149.25734821973828, 153.57561532035146, 207.83031683434254]]\n",
      "work week is: 17 error matrix is: [[140.17449777285728, 185.20997725518487, 275.0188946550032], [149.25734821973828, 153.57561532035146, 207.83031683434254], [102.09922817495945, 341.064095199057, 228.37368140994516]]\n",
      "work week is: 18 error matrix is: [[149.25734821973828, 153.57561532035146, 207.83031683434254], [102.09922817495945, 341.064095199057, 228.37368140994516], [301.5682756957384, 300.89196539743796, 189.4184419313064]]\n",
      "work week is: 19 error matrix is: [[102.09922817495945, 341.064095199057, 228.37368140994516], [301.5682756957384, 300.89196539743796, 189.4184419313064], [-13.375800776658803, 85.47167206280868, 269.251975460039]]\n",
      "work week is: 20 error matrix is: [[301.5682756957384, 300.89196539743796, 189.4184419313064], [-13.375800776658803, 85.47167206280868, 269.251975460039], [-0.3945892830413279, 177.58279403990315, -5.961014883272528]]\n",
      "work week is: 21 error matrix is: [[-13.375800776658803, 85.47167206280868, 269.251975460039], [-0.3945892830413279, 177.58279403990315, -5.961014883272528], [10.493457286766446, 12.102325934221515, -11.501828967235971]]\n",
      "work week is: 22 error matrix is: [[-0.3945892830413279, 177.58279403990315, -5.961014883272528], [10.493457286766446, 12.102325934221515, -11.501828967235971], [-30.20798793028406, -28.535081602625084, -22.27488348488374]]\n",
      "work week is: 23 error matrix is: [[10.493457286766446, 12.102325934221515, -11.501828967235971], [-30.20798793028406, -28.535081602625084, -22.27488348488374], [62.55781153849082, 139.9774679424064, 141.76422757332008]]\n",
      "work week is: 24 error matrix is: [[-30.20798793028406, -28.535081602625084, -22.27488348488374], [62.55781153849082, 139.9774679424064, 141.76422757332008], [41.89461507717998, 41.89461507717998, 41.346911707136904]]\n",
      "work week is: 25 error matrix is: [[62.55781153849082, 139.9774679424064, 141.76422757332008], [41.89461507717998, 41.89461507717998, 41.346911707136904], [89.74273583273875, 87.53897845497447, -20.399406151660983]]\n",
      "work week is: 26 error matrix is: [[41.89461507717998, 41.89461507717998, 41.346911707136904], [89.74273583273875, 87.53897845497447, -20.399406151660983], [-23.30550472855307, 21.951891945851273, -21.121819589639305]]\n",
      "work week is: 27 error matrix is: [[89.74273583273875, 87.53897845497447, -20.399406151660983], [-23.30550472855307, 21.951891945851273, -21.121819589639305], [-28.250312364346257, 50.68797772146604, 319.35116416485175]]\n",
      "work week is: 28 error matrix is: [[-23.30550472855307, 21.951891945851273, -21.121819589639305], [-28.250312364346257, 50.68797772146604, 319.35116416485175], [-28.9020691674179, -29.472658738160668, -27.519290229641246]]\n",
      "work week is: 29 error matrix is: [[-28.250312364346257, 50.68797772146604, 319.35116416485175], [-28.9020691674179, -29.472658738160668, -27.519290229641246], [-43.59255075121787, -41.115405790660375, -21.940594549945235]]\n",
      "work week is: 30 error matrix is: [[-28.9020691674179, -29.472658738160668, -27.519290229641246], [-43.59255075121787, -41.115405790660375, -21.940594549945235], [11.397573941414189, 10.427035334723351, 36.1315615134761]]\n",
      "work week is: 31 error matrix is: [[-43.59255075121787, -41.115405790660375, -21.940594549945235], [11.397573941414189, 10.427035334723351, 36.1315615134761], [-19.39797598532222, -18.738794011941145, -18.738794011941145]]\n",
      "work week is: 32 error matrix is: [[11.397573941414189, 10.427035334723351, 36.1315615134761], [-19.39797598532222, -18.738794011941145, -18.738794011941145], [74.61102253988942, 74.64419138579784, -26.397181986162987]]\n",
      "work week is: 33 error matrix is: [[-19.39797598532222, -18.738794011941145, -18.738794011941145], [74.61102253988942, 74.64419138579784, -26.397181986162987], [-23.18992408645422, -22.208733081769772, -22.208733081769772]]\n",
      "work week is: 34 error matrix is: [[74.61102253988942, 74.64419138579784, -26.397181986162987], [-23.18992408645422, -22.208733081769772, -22.208733081769772], [-14.799692885777644, -14.799692885777644, -15.032072222477517]]\n",
      "work week is: 35 error matrix is: [[-23.18992408645422, -22.208733081769772, -22.208733081769772], [-14.799692885777644, -14.799692885777644, -15.032072222477517], [-3.7523230492062467, -26.076795710616395, -3.7523230492062467]]\n",
      "work week is: 36 error matrix is: [[-14.799692885777644, -14.799692885777644, -15.032072222477517], [-3.7523230492062467, -26.076795710616395, -3.7523230492062467], [-21.547776164324816, -19.156997777322644, -23.657517526747714]]\n",
      "work week is: 37 error matrix is: [[-3.7523230492062467, -26.076795710616395, -3.7523230492062467], [-21.547776164324816, -19.156997777322644, -23.657517526747714], [-20.14158649362713, -20.14158649362713, -20.14158649362713]]\n",
      "work week is: 38 error matrix is: [[-21.547776164324816, -19.156997777322644, -23.657517526747714], [-20.14158649362713, -20.14158649362713, -20.14158649362713], [21.33333428889966, 19.992053696301973, 23.684315221418345]]\n",
      "work week is: 39 error matrix is: [[-20.14158649362713, -20.14158649362713, -20.14158649362713], [21.33333428889966, 19.992053696301973, 23.684315221418345], [25.207144011032806, 25.22388432775133, 12.90577736861269]]\n",
      "work week is: 40 error matrix is: [[21.33333428889966, 19.992053696301973, 23.684315221418345], [25.207144011032806, 25.22388432775133, 12.90577736861269], [11.286679835301415, 151.66076325443117, 737.0349644091986]]\n",
      "work week is: 41 error matrix is: [[25.207144011032806, 25.22388432775133, 12.90577736861269], [11.286679835301415, 151.66076325443117, 737.0349644091986], [32.31686576183417, 30.75210941370694, 110.19714530210271]]\n",
      "work week is: 42 error matrix is: [[11.286679835301415, 151.66076325443117, 737.0349644091986], [32.31686576183417, 30.75210941370694, 110.19714530210271], [-25.976902321949208, -25.888917393349143, -9.998532356643173]]\n",
      "work week is: 43 error matrix is: [[32.31686576183417, 30.75210941370694, 110.19714530210271], [-25.976902321949208, -25.888917393349143, -9.998532356643173], [-14.218805475065135, -12.158549100491493, -13.392625889386228]]\n",
      "work week is: 44 error matrix is: [[-25.976902321949208, -25.888917393349143, -9.998532356643173], [-14.218805475065135, -12.158549100491493, -13.392625889386228], [-19.589263552851854, -21.140099538936642, -55.29503013155013]]\n",
      "work week is: 45 error matrix is: [[-14.218805475065135, -12.158549100491493, -13.392625889386228], [-19.589263552851854, -21.140099538936642, -55.29503013155013], [13.491003443305594, 8.313480927112037, -26.366118599499664]]\n",
      "work week is: 46 error matrix is: [[-19.589263552851854, -21.140099538936642, -55.29503013155013], [13.491003443305594, 8.313480927112037, -26.366118599499664], [-30.149047660709844, -23.522739686954527, 31.764387932337527]]\n",
      "work week is: 47 error matrix is: [[13.491003443305594, 8.313480927112037, -26.366118599499664], [-30.149047660709844, -23.522739686954527, 31.764387932337527], [2.472626957572597, 1.3504505646296787, 1.3504505646296787]]\n",
      "work week is: 48 error matrix is: [[-30.149047660709844, -23.522739686954527, 31.764387932337527], [2.472626957572597, 1.3504505646296787, 1.3504505646296787], [-12.783325268448156, 18.482574998377554, -13.616075945835233]]\n",
      "work week is: 49 error matrix is: [[2.472626957572597, 1.3504505646296787, 1.3504505646296787], [-12.783325268448156, 18.482574998377554, -13.616075945835233], [34.51745826915061, 34.667209074345, 35.19430170392127]]\n",
      "work week is: 50 error matrix is: [[-12.783325268448156, 18.482574998377554, -13.616075945835233], [34.51745826915061, 34.667209074345, 35.19430170392127], [-32.63477923000061, -32.72764890839967, -7.878158695345666]]\n",
      "work week is: 51 error matrix is: [[34.51745826915061, 34.667209074345, 35.19430170392127], [-32.63477923000061, -32.72764890839967, -7.878158695345666], [-7.824652040539889, 33.03479991979357, -5.226977644975568]]\n",
      "work week is: 52 error matrix is: [[-32.63477923000061, -32.72764890839967, -7.878158695345666], [-7.824652040539889, 33.03479991979357, -5.226977644975568], [4.015208399782082, 2.829278843708049, 17.070685817298536]]\n",
      "work week is: 53 error matrix is: [[-7.824652040539889, 33.03479991979357, -5.226977644975568], [4.015208399782082, 2.829278843708049, 17.070685817298536], [-0.8116318922310644, -0.8210108323255012, 4.472624063704453]]\n",
      "work week is: 54 error matrix is: [[4.015208399782082, 2.829278843708049, 17.070685817298536], [-0.8116318922310644, -0.8210108323255012, 4.472624063704453], [4.012730330326071, 40.12385333189034, 3.344661829385634]]\n",
      "work week is: 55 error matrix is: [[-0.8116318922310644, -0.8210108323255012, 4.472624063704453], [4.012730330326071, 40.12385333189034, 3.344661829385634], [-1.5963782011103766, -1.6436995522113917, 68.07693938802849]]\n",
      "work week is: 56 error matrix is: [[4.012730330326071, 40.12385333189034, 3.344661829385634], [-1.5963782011103766, -1.6436995522113917, 68.07693938802849], [3.9874440686747405, 26.25536480263654, 87.16741621734093]]\n",
      "work week is: 57 error matrix is: [[-1.5963782011103766, -1.6436995522113917, 68.07693938802849], [3.9874440686747405, 26.25536480263654, 87.16741621734093], [0.6928517529321798, 3.4821490740488197, 22.086576656389166]]\n",
      "work week is: 58 error matrix is: [[3.9874440686747405, 26.25536480263654, 87.16741621734093], [0.6928517529321798, 3.4821490740488197, 22.086576656389166], [16.094483289831114, 14.42331500839226, 18.064952409316028]]\n",
      "work week is: 59 error matrix is: [[0.6928517529321798, 3.4821490740488197, 22.086576656389166], [16.094483289831114, 14.42331500839226, 18.064952409316028], [22.7230655746754, 22.73245745135793, 53.40987546127531]]\n",
      "work week is: 60 error matrix is: [[16.094483289831114, 14.42331500839226, 18.064952409316028], [22.7230655746754, 22.73245745135793, 53.40987546127531], [11.998033683762666, 11.82233915156336, 52.099083526734326]]\n",
      "work week is: 61 error matrix is: [[22.7230655746754, 22.73245745135793, 53.40987546127531], [11.998033683762666, 11.82233915156336, 52.099083526734326], [3.8096478668609395, 2.357957545207324, -26.13041274138419]]\n",
      "work week is: 62 error matrix is: [[11.998033683762666, 11.82233915156336, 52.099083526734326], [3.8096478668609395, 2.357957545207324, -26.13041274138419], [1.5782399348406893, -13.853233125165312, 46.10703907037758]]\n",
      "work week is: 63 error matrix is: [[3.8096478668609395, 2.357957545207324, -26.13041274138419], [1.5782399348406893, -13.853233125165312, 46.10703907037758], [101.23753534387272, 101.30697149085024, 22.858349946566932]]\n",
      "work week is: 64 error matrix is: [[1.5782399348406893, -13.853233125165312, 46.10703907037758], [101.23753534387272, 101.30697149085024, 22.858349946566932], [92.85002930295559, 94.20449567967245, 78.4844334668093]]\n",
      "work week is: 65 error matrix is: [[101.23753534387272, 101.30697149085024, 22.858349946566932], [92.85002930295559, 94.20449567967245, 78.4844334668093], [19.31777881328547, 20.41450567165077, 4.009643982489557]]\n",
      "work week is: 66 error matrix is: [[92.85002930295559, 94.20449567967245, 78.4844334668093], [19.31777881328547, 20.41450567165077, 4.009643982489557], [63.60345283461669, -2.498014087350124, 26.450988229983167]]\n",
      "work week is: 67 error matrix is: [[19.31777881328547, 20.41450567165077, 4.009643982489557], [63.60345283461669, -2.498014087350124, 26.450988229983167], [13.387988958388842, 10.843378778035294, 3.324220367057805]]\n",
      "work week is: 68 error matrix is: [[63.60345283461669, -2.498014087350124, 26.450988229983167], [13.387988958388842, 10.843378778035294, 3.324220367057805], [36.35709255836258, 35.38388038026932, 35.38388038026932]]\n",
      "work week is: 69 error matrix is: [[13.387988958388842, 10.843378778035294, 3.324220367057805], [36.35709255836258, 35.38388038026932, 35.38388038026932], [10.721449171108267, 10.282916413855142, 10.282916413855142]]\n",
      "work week is: 70 error matrix is: [[36.35709255836258, 35.38388038026932, 35.38388038026932], [10.721449171108267, 10.282916413855142, 10.282916413855142], [8.884196001481802, 6.408795278551327, -29.43742042585572]]\n",
      "work week is: 71 error matrix is: [[10.721449171108267, 10.282916413855142, 10.282916413855142], [8.884196001481802, 6.408795278551327, -29.43742042585572], [8.341089281715776, 8.341089281715776, -22.227062144859673]]\n",
      "work week is: 72 error matrix is: [[8.884196001481802, 6.408795278551327, -29.43742042585572], [8.341089281715776, 8.341089281715776, -22.227062144859673], [-10.074291154884076, -7.6292352344463366, -7.6292352344463366]]\n",
      "work week is: 73 error matrix is: [[8.341089281715776, 8.341089281715776, -22.227062144859673], [-10.074291154884076, -7.6292352344463366, -7.6292352344463366], [40.2892651107642, 40.32473798348512, 94.19430643455894]]\n",
      "work week is: 74 error matrix is: [[-10.074291154884076, -7.6292352344463366, -7.6292352344463366], [40.2892651107642, 40.32473798348512, 94.19430643455894], [88.80517150373254, -20.07162372605446, 87.1226532211144]]\n",
      "work week is: 75 error matrix is: [[40.2892651107642, 40.32473798348512, 94.19430643455894], [88.80517150373254, -20.07162372605446, 87.1226532211144], [129.7649165007772, 129.7649165007772, 116.30564494139479]]\n",
      "work week is: 76 error matrix is: [[88.80517150373254, -20.07162372605446, 87.1226532211144], [129.7649165007772, 129.7649165007772, 116.30564494139479], [157.7120127093962, 13.800009350390166, 157.7120127093962]]\n",
      "work week is: 77 error matrix is: [[129.7649165007772, 129.7649165007772, 116.30564494139479], [157.7120127093962, 13.800009350390166, 157.7120127093962], [205.11962871913144, 298.4957873990602, 204.65293896220382]]\n",
      "work week is: 78 error matrix is: [[157.7120127093962, 13.800009350390166, 157.7120127093962], [205.11962871913144, 298.4957873990602, 204.65293896220382], [161.66350454279785, 512.8678323104598, 169.58865366450334]]\n",
      "work week is: 79 error matrix is: [[205.11962871913144, 298.4957873990602, 204.65293896220382], [161.66350454279785, 512.8678323104598, 169.58865366450334], [66.040152560351, 64.11994631384079, 80.91099999774858]]\n",
      "work week is: 80 error matrix is: [[161.66350454279785, 512.8678323104598, 169.58865366450334], [66.040152560351, 64.11994631384079, 80.91099999774858], [-14.743927032138481, 10.672199800486423, 99.08602664603573]]\n",
      "work week is: 81 error matrix is: [[66.040152560351, 64.11994631384079, 80.91099999774858], [-14.743927032138481, 10.672199800486423, 99.08602664603573], [-13.927441710459885, -13.877595939208778, 11.430776889186866]]\n",
      "work week is: 82 error matrix is: [[-14.743927032138481, 10.672199800486423, 99.08602664603573], [-13.927441710459885, -13.877595939208778, 11.430776889186866], [10.11341743006001, 15.59690636650738, 9.033670402376954]]\n",
      "work week is: 83 error matrix is: [[-13.927441710459885, -13.877595939208778, 11.430776889186866], [10.11341743006001, 15.59690636650738, 9.033670402376954], [7.280946043597108, -48.14652257493533, 4.945272423297642]]\n",
      "work week is: 84 error matrix is: [[10.11341743006001, 15.59690636650738, 9.033670402376954], [7.280946043597108, -48.14652257493533, 4.945272423297642], [51.524736924246305, 1.693806363679362, 26.002379665021884]]\n",
      "work week is: 85 error matrix is: [[7.280946043597108, -48.14652257493533, 4.945272423297642], [51.524736924246305, 1.693806363679362, 26.002379665021884], [2.963241131330771, 83.14571876596946, -62.79433830414979]]\n",
      "work week is: 86 error matrix is: [[51.524736924246305, 1.693806363679362, 26.002379665021884], [2.963241131330771, 83.14571876596946, -62.79433830414979], [126.90922814970804, 126.90922814970804, 16.373583806524206]]\n",
      "work week is: 87 error matrix is: [[2.963241131330771, 83.14571876596946, -62.79433830414979], [126.90922814970804, 126.90922814970804, 16.373583806524206], [-57.48641952736527, -58.267423680470266, 727.1830544776111]]\n",
      "work week is: 88 error matrix is: [[126.90922814970804, 126.90922814970804, 16.373583806524206], [-57.48641952736527, -58.267423680470266, 727.1830544776111], [15.179490236228515, 15.179490236228515, 18.041876793858723]]\n",
      "work week is: 89 error matrix is: [[-57.48641952736527, -58.267423680470266, 727.1830544776111], [15.179490236228515, 15.179490236228515, 18.041876793858723], [21.388879907088874, 19.46949385825175, 46.62183462920525]]\n",
      "work week is: 90 error matrix is: [[15.179490236228515, 15.179490236228515, 18.041876793858723], [21.388879907088874, 19.46949385825175, 46.62183462920525], [11.787876071095095, 15.271867872329217, 15.379349216320607]]\n",
      "work week is: 91 error matrix is: [[21.388879907088874, 19.46949385825175, 46.62183462920525], [11.787876071095095, 15.271867872329217, 15.379349216320607], [70.0069853335152, 70.03115688426814, 14.839470678358094]]\n",
      "work week is: 92 error matrix is: [[11.787876071095095, 15.271867872329217, 15.379349216320607], [70.0069853335152, 70.03115688426814, 14.839470678358094], [35.57378000308147, 35.57378000308147, 1.5689211720583827]]\n",
      "work week is: 93 error matrix is: [[70.0069853335152, 70.03115688426814, 14.839470678358094], [35.57378000308147, 35.57378000308147, 1.5689211720583827], [3.985396670633041, 64.4997883913987, 88.65590877130559]]\n",
      "work week is: 94 error matrix is: [[35.57378000308147, 35.57378000308147, 1.5689211720583827], [3.985396670633041, 64.4997883913987, 88.65590877130559], [0.5393078884063369, 10.077824342288162, 106.67033549596492]]\n",
      "work week is: 95 error matrix is: [[3.985396670633041, 64.4997883913987, 88.65590877130559], [0.5393078884063369, 10.077824342288162, 106.67033549596492], [55.61752081117651, 59.42354042993062, 150.84475448873366]]\n",
      "work week is: 96 error matrix is: [[0.5393078884063369, 10.077824342288162, 106.67033549596492], [55.61752081117651, 59.42354042993062, 150.84475448873366], [9.617367346740233, 83.70500039575806, 83.70500039575806]]\n",
      "work week is: 97 error matrix is: [[55.61752081117651, 59.42354042993062, 150.84475448873366], [9.617367346740233, 83.70500039575806, 83.70500039575806], [-23.159325441681272, -23.108232894687244, -23.108232894687244]]\n",
      "work week is: 98 error matrix is: [[9.617367346740233, 83.70500039575806, 83.70500039575806], [-23.159325441681272, -23.108232894687244, -23.108232894687244], [30.116730195986797, 74.4684881881069, -28.2739800994049]]\n",
      "work week is: 99 error matrix is: [[-23.159325441681272, -23.108232894687244, -23.108232894687244], [30.116730195986797, 74.4684881881069, -28.2739800994049], [13.335035112716639, 10.53748422444646, 67.9732700309639]]\n"
     ]
    }
   ],
   "source": [
    "# Example of kde on a single period (all products)\n",
    "for ww in range(0,100):\n",
    "    matrix_for_ww = [error_list[ww-1], error_list[ww], error_list[ww+1]]\n",
    "    print('work week is:', ww, 'error matrix is:', matrix_for_ww)"
   ]
  },
  {
   "cell_type": "code",
   "execution_count": 124,
   "id": "166b1479",
   "metadata": {},
   "outputs": [],
   "source": [
    "fit = SimpleExpSmoothing(error_list, initialization_method=\"estimated\").fit()\n",
    "fcast_list = []\n",
    "for i in range(2,len(error_list)):\n",
    "    fit = SimpleExpSmoothing(error_list[0:i], initialization_method=\"estimated\").fit()\n",
    "    fcast = fit.forecast(1)\n",
    "    fcast_list.append(fcast[0])"
   ]
  },
  {
   "cell_type": "code",
   "execution_count": 125,
   "id": "41ea93c0",
   "metadata": {},
   "outputs": [
    {
     "data": {
      "text/plain": [
       "(-100.0, 300.0)"
      ]
     },
     "execution_count": 125,
     "metadata": {},
     "output_type": "execute_result"
    },
    {
     "data": {
      "image/png": "[encoded data removed]",
      "text/plain": [
       "<Figure size 432x288 with 1 Axes>"
      ]
     },
     "metadata": {
      "needs_background": "light"
     },
     "output_type": "display_data"
    }
   ],
   "source": [
    "plt.plot(fcast_list)\n",
    "plt.scatter(x = range(0, len(error_list)), y = error_list, s = 0.2)\n",
    "plt.ylim([-100, 300])"
   ]
  },
  {
   "cell_type": "code",
   "execution_count": null,
   "id": "35cfaa83",
   "metadata": {},
   "outputs": [],
   "source": [
    "# Testing model on a new program\n",
    "product_group = 'CLIFFDALE REFRESH 1TB 2.5 PCIE SE SSD'\n",
    "\n",
    "\n",
    "# Actuals (A_t)\n",
    "actual_orders = []\n",
    "for ww in forecasts_df[forecasts_df['product_group'] == product_group]['forecast_for_ww'].sort_values().unique():\n",
    "    actual_orders.append(forecasts_df[(forecasts_df['product_group'] == product_group) & (forecasts_df['forecast_for_ww'] == ww)]['actual_order'].unique()[0])\n",
    "\n",
    "# Demand forecast (F_t)\n",
    "product_ww_group_df = forecasts_df.groupby(['product_group', 'forecast_for_ww'])\n",
    "demand_forecast = []\n",
    "for ww in forecasts_df[forecasts_df['product_group'] == product_group]['forecast_for_ww'].sort_values().unique():\n",
    "    df = product_ww_group_df.get_group((product_group, ww)).sort_values(by = 'forecast_made_ww')\n",
    "    vals = list(df['forecast'])\n",
    "    demand_forecast.append(weighted_mean(vals, weight_type = 'right skewed', non_zero = 'True', print_cond = 'False'))\n",
    "\n",
    "# Predicting actuals using the error vector (Pred_A_t = F_t - error_vec*F_t)\n",
    "predicted_actuals = [x - y for x, y in zip(demand_forecast, [demand_forecast[i]*error_list[i] for i in range(len(demand_forecast))])]\n"
   ]
  },
  {
   "cell_type": "code",
   "execution_count": null,
   "id": "39f1a3c7",
   "metadata": {},
   "outputs": [],
   "source": [
    "plt.scatter(x = range(0,len(predicted_actuals)), y = predicted_actuals, s = 2)\n",
    "plt.scatter(x = range(0, len(actual_orders)), y = actual_orders, s = 2)\n",
    "plt.scatter(x = range(0, len(demand_forecast)), y = demand_forecast, s = 2)\n",
    "\n",
    "plt.legend(['Predicted demand', 'True demand', 'Weighted mean of demand forecast'])\n",
    "plt.xlabel('standardized weeks (start to end)')\n",
    "plt.ylabel('actual demand')"
   ]
  }
 ],
 "metadata": {
  "kernelspec": {
   "display_name": "Python 3 (ipykernel)",
   "language": "python",
   "name": "python3"
  },
  "language_info": {
   "codemirror_mode": {
    "name": "ipython",
    "version": 3
   },
   "file_extension": ".py",
   "mimetype": "text/x-python",
   "name": "python",
   "nbconvert_exporter": "python",
   "pygments_lexer": "ipython3",
   "version": "3.9.12"
  }
 },
 "nbformat": 4,
 "nbformat_minor": 5
}
